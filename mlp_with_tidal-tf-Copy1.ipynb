{
 "cells": [
  {
   "cell_type": "code",
   "execution_count": 1,
   "metadata": {},
   "outputs": [
    {
     "name": "stdout",
     "output_type": "stream",
     "text": [
      "Populating the interactive namespace from numpy and matplotlib\n"
     ]
    },
    {
     "data": {
      "text/html": [
       "<style>.container { width:100% !important; }</style>"
      ],
      "text/plain": [
       "<IPython.core.display.HTML object>"
      ]
     },
     "metadata": {},
     "output_type": "display_data"
    }
   ],
   "source": [
    "\n",
    "%pylab inline\n",
    "import illustris_python as il \n",
    "from sklearn.neural_network import MLPRegressor \n",
    "from sklearn.datasets import make_regression \n",
    "from sklearn.model_selection  import train_test_split \n",
    "\n",
    "from IPython.core.display import display, HTML\n",
    "display(HTML(\"<style>.container { width:100% !important; }</style>\"))\n",
    " \n",
    "from sklearn.model_selection import train_test_split \n",
    "from sklearn.neural_network import MLPRegressor\n",
    "#from halotools_ia.correlation_functions  import ed_3d,ee_3d, ed_3d_one_two_halo_decomp\n"
   ]
  },
  {
   "cell_type": "code",
   "execution_count": 135,
   "metadata": {},
   "outputs": [
    {
     "name": "stdout",
     "output_type": "stream",
     "text": [
      "Populating the interactive namespace from numpy and matplotlib\n",
      " Available:  []\n"
     ]
    },
    {
     "name": "stderr",
     "output_type": "stream",
     "text": [
      "/hildafs/home/yjagvara/.conda/envs/test-tf3/lib/python3.9/site-packages/IPython/core/magics/pylab.py:159: UserWarning: pylab import has clobbered these variables: ['add', 'multiply', 'array', 'dot', 'plotting', 'minimum', 'unique', 'maximum', 'subtract', 'average', 'test', 'get', 'concatenate']\n",
      "`%matplotlib` prevents importing * from pylab and numpy\n",
      "  warn(\"pylab import has clobbered these variables: %s\"  % clobbered +\n"
     ]
    }
   ],
   "source": [
    "%pylab inline\n",
    "#%load_ext autoreload\n",
    "#%autoreload 2\n",
    "import os\n",
    " \n",
    "os.environ[\"CUDA_VISIBLE_DEVICES\"] = \"0\"\n",
    "\n",
    "import sys\n",
    "sys.path.insert(0, '..')\n",
    "import tensorflow as tf\n",
    " \n",
    " \n",
    "from functools import partial\n",
    "print(\" Available: \",  (tf.config.list_physical_devices('GPU')))\n",
    "from tensorflow.keras import *\n",
    "from tensorflow.keras.layers import *\n",
    "from tensorflow.keras.optimizers import *\n",
    "from tensorflow.keras.callbacks import *\n",
    "import keras.backend as K"
   ]
  },
  {
   "cell_type": "code",
   "execution_count": null,
   "metadata": {},
   "outputs": [],
   "source": []
  },
  {
   "cell_type": "code",
   "execution_count": 134,
   "metadata": {},
   "outputs": [
    {
     "name": "stdout",
     "output_type": "stream",
     "text": [
      "KerasTensor(type_spec=PowerSpherical_ACTTypeSpec(3, {'mean_direction': TensorSpec(shape=(None, 3), dtype=tf.float32, name=None), 'concentration': TensorSpec(shape=(1,), dtype=tf.float32, name=None)}, {'validate_args': False, 'allow_nan_stats': True, 'name': 'PowerSpherical'}, ('parameters',), (), ('name',), {}), name='PowerSpherical', description=\"created by layer 'lambda_25'\")\n"
     ]
    }
   ],
   "source": [
    "import tensorflow_probability as tfp\n",
    "# data iformation\n",
    "input_dim = 9 # number of input features\n",
    "number_of_classes = 3 # number of classes\n",
    " \n",
    "dense_1_size = 32\n",
    "dense_2_size = 16\n",
    "learning_rate = 0.05\n",
    "\n",
    "# define model architecture\n",
    "model = Sequential()\n",
    "model.add(Dense(dense_1_size, activation=\"relu\", input_dim=input_dim))\n",
    "model.add(Dense(dense_2_size, activation=\"relu\"))\n",
    "model.add(Dense(3))\n",
    "#print(model.layers[2].output)\n",
    "#model.add(tfp.distributions.PowerSpherical(model.layers[2].output, [1,1]))\n",
    "model.add(Lambda(lambda x: tfp.distributions.PowerSpherical(x, [1])))\n",
    "\n",
    "print(model.layers[3].output)\n",
    "#model.add(Lambda(lambda x: K.l2_normalize(x, axis=-1)))\n",
    "# compile the model\n",
    "opt = Adam(learning_rate=learning_rate)\n",
    "\n",
    "negative_log_likelihood = lambda y, q: -q.log_prob(y)\n",
    "\n",
    "model.compile( loss=negative_log_likelihood, optimizer=opt)"
   ]
  },
  {
   "cell_type": "code",
   "execution_count": 114,
   "metadata": {},
   "outputs": [],
   "source": [
    "import pickle\n",
    "from astropy.table import Table, join\n",
    "from pandas import *\n",
    "\n",
    "tng = pickle.load(  open('/hildafs/projects/phy200017p/yjagvara/some_data/TNG100-1_99_non-reduced_galaxy_shapes_multi_scale_256.pkl', \"rb\" ) )\n",
    "\n",
    "tng = Table.from_pandas(DataFrame(tng))\n",
    "tng = tng[tng['dm_mass']>0]\n",
    "#tng = tng[tng['central_bool']>0]\n",
    "tid_av_x_train, tid_av_x_test,\\\n",
    "tid_av_y_train, tid_av_y_test,\\\n",
    "tid_av_z_train, tid_av_z_test,\\\n",
    "tid_bv_x_train,tid_bv_x_test,\\\n",
    "tid_bv_y_train, tid_bv_y_test,\\\n",
    "tid_bv_z_train, tid_bv_z_test,\\\n",
    "tid_cv_x_train, tid_cv_x_test,\\\n",
    "tid_cv_y_train, tid_cv_y_test,\\\n",
    "tid_cv_z_train, tid_cv_z_test,\\\n",
    "dm_av_x_train,  dm_av_x_test,\\\n",
    "dm_av_y_train,  dm_av_y_test,\\\n",
    "dm_av_z_train, dm_av_z_test,\\\n",
    "gal_pos_x_train, gal_pos_x_test,\\\n",
    "gal_pos_y_train, gal_pos_y_test,\\\n",
    "gal_pos_z_train, gal_pos_z_test = train_test_split( (tng['tid_av_x_0.1_256']),  (tng['tid_av_y_0.1_256']),  (tng['tid_av_z_0.1_256']),\n",
    "                                        (tng['tid_bv_x_0.1_256']),  (tng['tid_bv_y_0.1_256']),  (tng['tid_bv_z_0.1_256']),\n",
    "                                       ( tng['tid_cv_x_0.1_256']),  (tng['tid_cv_y_0.1_256']),  (tng['tid_cv_z_0.1_256']),\n",
    "                                               (tng['dm_av_x']),   (tng['dm_av_y']),   (tng['dm_av_z']),\n",
    "                                                tng['gal_pos_x'], tng['gal_pos_y'], tng['gal_pos_z'],random_state=0,test_size=0.5)\n",
    " \n",
    "# subhalo_mass_train=subhalo_mass_train.reshape(-1,1)\n",
    "# subhalo_mass_test=subhalo_mass_test.reshape(-1,1)\n",
    "# stellar_mass_train=stellar_mass_train.reshape(-1,1)\n",
    "\n",
    "X = np.vstack((tid_av_x_train, tid_av_y_train, tid_av_z_train, \\\n",
    "tid_bv_x_train, tid_bv_y_train, tid_bv_z_train, \\\n",
    "tid_cv_x_train, tid_cv_y_train, tid_cv_z_train)).T\n",
    "Y = np.vstack((dm_av_x_train, dm_av_y_train,   dm_av_z_train)).T\n",
    "\n",
    "X_test = np.vstack((tid_av_x_test, tid_av_y_test, tid_av_z_test, \\\n",
    "tid_bv_x_test, tid_bv_y_test, tid_bv_z_test, \\\n",
    "tid_cv_x_test, tid_cv_y_test, tid_cv_z_test)).T\n",
    "Y_test = np.vstack((dm_av_x_test, dm_av_y_test,   dm_av_z_test)).T"
   ]
  },
  {
   "cell_type": "code",
   "execution_count": 115,
   "metadata": {
    "scrolled": false
   },
   "outputs": [
    {
     "name": "stdout",
     "output_type": "stream",
     "text": [
      "WARNING:tensorflow:@custom_gradient grad_fn has 'variables' in signature, but no ResourceVariables were used on the forward pass.\n",
      "WARNING:tensorflow:@custom_gradient grad_fn has 'variables' in signature, but no ResourceVariables were used on the forward pass.\n",
      "WARNING:tensorflow:@custom_gradient grad_fn has 'variables' in signature, but no ResourceVariables were used on the forward pass.\n"
     ]
    },
    {
     "data": {
      "text/plain": [
       "<keras.callbacks.History at 0x151fbc355850>"
      ]
     },
     "execution_count": 115,
     "metadata": {},
     "output_type": "execute_result"
    }
   ],
   "source": [
    "batch_size = min(200, np.array(tng).shape[0])\n",
    "epochs = 500\n",
    "      \n",
    "stratify =   None\n",
    "# X_train, X_vald, y_train, y_vald = train_test_split(\n",
    "#     X, y, test_size=0.1, shuffle=True, stratify=stratify\n",
    "# )\n",
    "# set callbacks\n",
    "es = EarlyStopping(monitor=\"val_loss\", mode=\"min\", verbose=0, patience=10)\n",
    "mc = ModelCheckpoint(\n",
    "    \"best_model.h5\",\n",
    "    monitor=\"val_loss\",\n",
    "    mode=\"min\",\n",
    "    verbose=0,\n",
    "    save_best_only=True,\n",
    ")\n",
    "\n",
    "model.fit(\n",
    "    X,\n",
    "    Y,\n",
    "    validation_data=(X_test, Y_test),\n",
    "    batch_size=batch_size,\n",
    "    epochs=500,\n",
    "    verbose=False,\n",
    "    callbacks=[es, mc],\n",
    ")"
   ]
  },
  {
   "cell_type": "code",
   "execution_count": 131,
   "metadata": {},
   "outputs": [],
   "source": [
    "x_smpl = linspace((-1,-1,-1), (1,1,1),1000)\n"
   ]
  },
  {
   "cell_type": "code",
   "execution_count": 132,
   "metadata": {},
   "outputs": [
    {
     "name": "stdout",
     "output_type": "stream",
     "text": [
      "tf.Tensor([-3.119864  -3.119864  -3.119864  ... -3.0256858 -3.119864  -3.119864 ], shape=(25369,), dtype=float32)\n"
     ]
    }
   ],
   "source": [
    "print(model(X_test).log_prob([1,1,1 ]))"
   ]
  },
  {
   "cell_type": "code",
   "execution_count": 133,
   "metadata": {},
   "outputs": [],
   "source": [
    "#x_smpl = linspace((-1,-1,-1,-1,-1,-1,-1,-1,-1), (1,1,1,1,1,1,1,1,1),100)\n",
    "\n",
    "\n",
    "# We evaluate the log probability of the model at different points, to sample the pdf of\n",
    "# each example\n",
    "preds = np.stack([model(X_test).log_prob(x).numpy() for x in x_smpl])\n",
    "mode = x_smpl[preds.argmax(axis=0)]\n"
   ]
  },
  {
   "cell_type": "code",
   "execution_count": 119,
   "metadata": {},
   "outputs": [
    {
     "name": "stdout",
     "output_type": "stream",
     "text": [
      "(1000, 25369)\n"
     ]
    }
   ],
   "source": [
    "print(preds.shape)"
   ]
  },
  {
   "cell_type": "code",
   "execution_count": 103,
   "metadata": {},
   "outputs": [
    {
     "data": {
      "text/plain": [
       "[<matplotlib.lines.Line2D at 0x15201c26e1c0>,\n",
       " <matplotlib.lines.Line2D at 0x15201c26e5e0>,\n",
       " <matplotlib.lines.Line2D at 0x15201c26e250>]"
      ]
     },
     "execution_count": 103,
     "metadata": {},
     "output_type": "execute_result"
    },
    {
     "data": {
      "image/png": "[encoded data removed]",
      "text/plain": [
       "<Figure size 432x288 with 1 Axes>"
      ]
     },
     "metadata": {
      "needs_background": "light"
     },
     "output_type": "display_data"
    }
   ],
   "source": [
    "mode = mode.reshape(Y_test.shape)\n",
    "from scipy.stats import lognorm\n",
    "plot(x_smpl, exp(preds[:,2]))\n",
    "plot(x_smpl, lognorm.pdf(x_smpl, s=X_test.flatten()[2], loc=2*X_test.flatten()[2]))"
   ]
  },
  {
   "cell_type": "code",
   "execution_count": 120,
   "metadata": {},
   "outputs": [
    {
     "ename": "NameError",
     "evalue": "name 'Y_pred' is not defined",
     "output_type": "error",
     "traceback": [
      "\u001b[0;31m---------------------------------------------------------------------------\u001b[0m",
      "\u001b[0;31mNameError\u001b[0m                                 Traceback (most recent call last)",
      "\u001b[0;32m/tmp/ipykernel_2937652/3225699744.py\u001b[0m in \u001b[0;36m<module>\u001b[0;34m\u001b[0m\n\u001b[0;32m----> 1\u001b[0;31m \u001b[0mh\u001b[0m\u001b[0;34m=\u001b[0m\u001b[0mhist\u001b[0m\u001b[0;34m(\u001b[0m\u001b[0mY_pred\u001b[0m\u001b[0;34m,\u001b[0m\u001b[0mbins\u001b[0m\u001b[0;34m=\u001b[0m\u001b[0;36m30\u001b[0m\u001b[0;34m)\u001b[0m\u001b[0;34m\u001b[0m\u001b[0;34m\u001b[0m\u001b[0m\n\u001b[0m\u001b[1;32m      2\u001b[0m \u001b[0mxlabel\u001b[0m\u001b[0;34m(\u001b[0m\u001b[0;34m'Predicted (Normalized)'\u001b[0m\u001b[0;34m)\u001b[0m\u001b[0;34m\u001b[0m\u001b[0;34m\u001b[0m\u001b[0m\n",
      "\u001b[0;31mNameError\u001b[0m: name 'Y_pred' is not defined"
     ]
    }
   ],
   "source": [
    "h=hist(Y_pred,bins=30)\n",
    "xlabel('Predicted (Normalized)')"
   ]
  },
  {
   "cell_type": "code",
   "execution_count": 121,
   "metadata": {},
   "outputs": [
    {
     "data": {
      "text/plain": [
       "Text(0.5, 0, 'Actual (Normalized)')"
      ]
     },
     "execution_count": 121,
     "metadata": {},
     "output_type": "execute_result"
    },
    {
     "data": {
      "image/png": "[encoded data removed]",
      "text/plain": [
       "<Figure size 432x288 with 1 Axes>"
      ]
     },
     "metadata": {
      "needs_background": "light"
     },
     "output_type": "display_data"
    }
   ],
   "source": [
    "h=hist(Y_test,bins=30)\n",
    "xlabel('Actual (Normalized)')"
   ]
  },
  {
   "cell_type": "code",
   "execution_count": 122,
   "metadata": {},
   "outputs": [
    {
     "data": {
      "image/png": "[encoded data removed]",
      "text/plain": [
       "<Figure size 432x288 with 1 Axes>"
      ]
     },
     "metadata": {
      "needs_background": "light"
     },
     "output_type": "display_data"
    }
   ],
   "source": [
    "norms = np.linalg.norm(Y_test,axis=1).astype('float32')\n",
    "h=hist(norms,bins=100 )\n",
    "\n",
    "\n",
    "# dm_vecs = np.array([(tng['dm_av_x']),   (tng['dm_av_y']),   (tng['dm_av_z'])])\n",
    "# zero_dm_vecs = dm_vecs.T[np.linalg.norm(dm_vecs,axis=0)<1]\n",
    "# #hist(np.linalg.norm(zero_dm_vecs,axis=1).astype('float32'))\n",
    "\n",
    "\n"
   ]
  },
  {
   "cell_type": "code",
   "execution_count": 123,
   "metadata": {},
   "outputs": [
    {
     "name": "stdout",
     "output_type": "stream",
     "text": [
      "[1. 1. 1. ... 1. 1. 1.]\n"
     ]
    }
   ],
   "source": [
    "print(np.linalg.norm(Y,axis=-1) )\n"
   ]
  },
  {
   "cell_type": "code",
   "execution_count": null,
   "metadata": {},
   "outputs": [],
   "source": []
  },
  {
   "cell_type": "code",
   "execution_count": null,
   "metadata": {},
   "outputs": [],
   "source": []
  },
  {
   "cell_type": "code",
   "execution_count": 124,
   "metadata": {},
   "outputs": [
    {
     "ename": "NameError",
     "evalue": "name 'Y_pred' is not defined",
     "output_type": "error",
     "traceback": [
      "\u001b[0;31m---------------------------------------------------------------------------\u001b[0m",
      "\u001b[0;31mNameError\u001b[0m                                 Traceback (most recent call last)",
      "\u001b[0;32m/tmp/ipykernel_2937652/2201304772.py\u001b[0m in \u001b[0;36m<module>\u001b[0;34m\u001b[0m\n\u001b[0;32m----> 1\u001b[0;31m \u001b[0mdm_av_x_pred\u001b[0m \u001b[0;34m=\u001b[0m \u001b[0mY_pred\u001b[0m\u001b[0;34m[\u001b[0m\u001b[0;34m:\u001b[0m\u001b[0;34m,\u001b[0m\u001b[0;36m0\u001b[0m\u001b[0;34m]\u001b[0m\u001b[0;34m\u001b[0m\u001b[0;34m\u001b[0m\u001b[0m\n\u001b[0m\u001b[1;32m      2\u001b[0m \u001b[0mdm_av_y_pred\u001b[0m \u001b[0;34m=\u001b[0m \u001b[0mY_pred\u001b[0m\u001b[0;34m[\u001b[0m\u001b[0;34m:\u001b[0m\u001b[0;34m,\u001b[0m\u001b[0;36m1\u001b[0m\u001b[0;34m]\u001b[0m\u001b[0;34m\u001b[0m\u001b[0;34m\u001b[0m\u001b[0m\n\u001b[1;32m      3\u001b[0m \u001b[0mdm_av_z_pred\u001b[0m \u001b[0;34m=\u001b[0m \u001b[0mY_pred\u001b[0m\u001b[0;34m[\u001b[0m\u001b[0;34m:\u001b[0m\u001b[0;34m,\u001b[0m\u001b[0;36m2\u001b[0m\u001b[0;34m]\u001b[0m\u001b[0;34m\u001b[0m\u001b[0;34m\u001b[0m\u001b[0m\n",
      "\u001b[0;31mNameError\u001b[0m: name 'Y_pred' is not defined"
     ]
    }
   ],
   "source": [
    "\n",
    "dm_av_x_pred = Y_pred[:,0]\n",
    "dm_av_y_pred = Y_pred[:,1]\n",
    "dm_av_z_pred = Y_pred[:,2]"
   ]
  },
  {
   "cell_type": "code",
   "execution_count": 125,
   "metadata": {},
   "outputs": [
    {
     "ename": "NameError",
     "evalue": "name 'dm_av_x_pred' is not defined",
     "output_type": "error",
     "traceback": [
      "\u001b[0;31m---------------------------------------------------------------------------\u001b[0m",
      "\u001b[0;31mNameError\u001b[0m                                 Traceback (most recent call last)",
      "\u001b[0;32m/tmp/ipykernel_2937652/3429203805.py\u001b[0m in \u001b[0;36m<module>\u001b[0;34m\u001b[0m\n\u001b[0;32m----> 1\u001b[0;31m \u001b[0mhist\u001b[0m\u001b[0;34m(\u001b[0m \u001b[0;34m(\u001b[0m\u001b[0mdm_av_x_pred\u001b[0m\u001b[0;34m)\u001b[0m\u001b[0;34m,\u001b[0m\u001b[0malpha\u001b[0m\u001b[0;34m=\u001b[0m\u001b[0;36m0.5\u001b[0m\u001b[0;34m)\u001b[0m\u001b[0;34m\u001b[0m\u001b[0;34m\u001b[0m\u001b[0m\n\u001b[0m\u001b[1;32m      2\u001b[0m \u001b[0mhist\u001b[0m\u001b[0;34m(\u001b[0m \u001b[0;34m(\u001b[0m\u001b[0mdm_av_x_test\u001b[0m\u001b[0;34m)\u001b[0m\u001b[0;34m,\u001b[0m\u001b[0malpha\u001b[0m\u001b[0;34m=\u001b[0m\u001b[0;36m0.5\u001b[0m\u001b[0;34m)\u001b[0m\u001b[0;34m\u001b[0m\u001b[0;34m\u001b[0m\u001b[0m\n",
      "\u001b[0;31mNameError\u001b[0m: name 'dm_av_x_pred' is not defined"
     ]
    }
   ],
   "source": [
    "hist( (dm_av_x_pred),alpha=0.5)\n",
    "hist( (dm_av_x_test),alpha=0.5)"
   ]
  },
  {
   "cell_type": "code",
   "execution_count": 126,
   "metadata": {},
   "outputs": [
    {
     "ename": "NameError",
     "evalue": "name 'dm_av_y_pred' is not defined",
     "output_type": "error",
     "traceback": [
      "\u001b[0;31m---------------------------------------------------------------------------\u001b[0m",
      "\u001b[0;31mNameError\u001b[0m                                 Traceback (most recent call last)",
      "\u001b[0;32m/tmp/ipykernel_2937652/1233169511.py\u001b[0m in \u001b[0;36m<module>\u001b[0;34m\u001b[0m\n\u001b[0;32m----> 1\u001b[0;31m \u001b[0mhist\u001b[0m\u001b[0;34m(\u001b[0m \u001b[0;34m(\u001b[0m\u001b[0mdm_av_y_pred\u001b[0m\u001b[0;34m)\u001b[0m\u001b[0;34m,\u001b[0m\u001b[0malpha\u001b[0m\u001b[0;34m=\u001b[0m\u001b[0;36m0.5\u001b[0m\u001b[0;34m)\u001b[0m\u001b[0;34m\u001b[0m\u001b[0;34m\u001b[0m\u001b[0m\n\u001b[0m\u001b[1;32m      2\u001b[0m \u001b[0mhist\u001b[0m\u001b[0;34m(\u001b[0m \u001b[0;34m(\u001b[0m\u001b[0mdm_av_y_test\u001b[0m\u001b[0;34m)\u001b[0m\u001b[0;34m,\u001b[0m\u001b[0malpha\u001b[0m\u001b[0;34m=\u001b[0m\u001b[0;36m0.5\u001b[0m\u001b[0;34m)\u001b[0m\u001b[0;34m\u001b[0m\u001b[0;34m\u001b[0m\u001b[0m\n",
      "\u001b[0;31mNameError\u001b[0m: name 'dm_av_y_pred' is not defined"
     ]
    }
   ],
   "source": [
    "hist( (dm_av_y_pred),alpha=0.5)\n",
    "hist( (dm_av_y_test),alpha=0.5)"
   ]
  },
  {
   "cell_type": "code",
   "execution_count": 127,
   "metadata": {},
   "outputs": [
    {
     "ename": "NameError",
     "evalue": "name 'dm_av_z_pred' is not defined",
     "output_type": "error",
     "traceback": [
      "\u001b[0;31m---------------------------------------------------------------------------\u001b[0m",
      "\u001b[0;31mNameError\u001b[0m                                 Traceback (most recent call last)",
      "\u001b[0;32m/tmp/ipykernel_2937652/1689612597.py\u001b[0m in \u001b[0;36m<module>\u001b[0;34m\u001b[0m\n\u001b[0;32m----> 1\u001b[0;31m \u001b[0mhist\u001b[0m\u001b[0;34m(\u001b[0m\u001b[0mdm_av_z_pred\u001b[0m\u001b[0;34m,\u001b[0m\u001b[0malpha\u001b[0m\u001b[0;34m=\u001b[0m\u001b[0;36m0.5\u001b[0m\u001b[0;34m)\u001b[0m\u001b[0;34m\u001b[0m\u001b[0;34m\u001b[0m\u001b[0m\n\u001b[0m\u001b[1;32m      2\u001b[0m \u001b[0mhist\u001b[0m\u001b[0;34m(\u001b[0m\u001b[0mdm_av_z_test\u001b[0m\u001b[0;34m,\u001b[0m\u001b[0malpha\u001b[0m\u001b[0;34m=\u001b[0m\u001b[0;36m0.5\u001b[0m\u001b[0;34m)\u001b[0m\u001b[0;34m\u001b[0m\u001b[0;34m\u001b[0m\u001b[0m\n",
      "\u001b[0;31mNameError\u001b[0m: name 'dm_av_z_pred' is not defined"
     ]
    }
   ],
   "source": [
    "hist(dm_av_z_pred,alpha=0.5)\n",
    "hist(dm_av_z_test,alpha=0.5)"
   ]
  },
  {
   "cell_type": "code",
   "execution_count": 128,
   "metadata": {},
   "outputs": [
    {
     "ename": "NameError",
     "evalue": "name 'dm_av_x_pred' is not defined",
     "output_type": "error",
     "traceback": [
      "\u001b[0;31m---------------------------------------------------------------------------\u001b[0m",
      "\u001b[0;31mNameError\u001b[0m                                 Traceback (most recent call last)",
      "\u001b[0;32m/tmp/ipykernel_2937652/1063173737.py\u001b[0m in \u001b[0;36m<module>\u001b[0;34m\u001b[0m\n\u001b[1;32m      3\u001b[0m \u001b[0;34m\u001b[0m\u001b[0m\n\u001b[1;32m      4\u001b[0m \u001b[0mor_train\u001b[0m \u001b[0;34m=\u001b[0m \u001b[0mnp\u001b[0m\u001b[0;34m.\u001b[0m\u001b[0marray\u001b[0m\u001b[0;34m(\u001b[0m\u001b[0;34m[\u001b[0m\u001b[0mdm_av_x_train\u001b[0m\u001b[0;34m,\u001b[0m \u001b[0mdm_av_y_train\u001b[0m\u001b[0;34m,\u001b[0m \u001b[0mdm_av_z_train\u001b[0m\u001b[0;34m]\u001b[0m\u001b[0;34m)\u001b[0m\u001b[0;34m.\u001b[0m\u001b[0mT\u001b[0m\u001b[0;34m\u001b[0m\u001b[0;34m\u001b[0m\u001b[0m\n\u001b[0;32m----> 5\u001b[0;31m \u001b[0mor_pred\u001b[0m \u001b[0;34m=\u001b[0m \u001b[0mnp\u001b[0m\u001b[0;34m.\u001b[0m\u001b[0marray\u001b[0m\u001b[0;34m(\u001b[0m\u001b[0;34m[\u001b[0m\u001b[0mdm_av_x_pred\u001b[0m\u001b[0;34m,\u001b[0m \u001b[0mdm_av_y_pred\u001b[0m\u001b[0;34m,\u001b[0m \u001b[0mdm_av_z_pred\u001b[0m\u001b[0;34m]\u001b[0m\u001b[0;34m)\u001b[0m\u001b[0;34m.\u001b[0m\u001b[0mT\u001b[0m\u001b[0;34m\u001b[0m\u001b[0;34m\u001b[0m\u001b[0m\n\u001b[0m\u001b[1;32m      6\u001b[0m \u001b[0mrbins\u001b[0m \u001b[0;34m=\u001b[0m \u001b[0mnp\u001b[0m\u001b[0;34m.\u001b[0m\u001b[0mlogspace\u001b[0m\u001b[0;34m(\u001b[0m\u001b[0;34m-\u001b[0m\u001b[0;36m1.5\u001b[0m\u001b[0;34m,\u001b[0m\u001b[0;36m1.5\u001b[0m\u001b[0;34m,\u001b[0m\u001b[0;36m16\u001b[0m\u001b[0;34m)\u001b[0m\u001b[0;34m\u001b[0m\u001b[0;34m\u001b[0m\u001b[0m\n\u001b[1;32m      7\u001b[0m \u001b[0med1h\u001b[0m\u001b[0;34m,\u001b[0m\u001b[0med2h\u001b[0m \u001b[0;34m=\u001b[0m \u001b[0med_3d_one_two_halo_decomp\u001b[0m\u001b[0;34m(\u001b[0m\u001b[0mpos_train\u001b[0m \u001b[0;34m,\u001b[0m \u001b[0mor_train\u001b[0m \u001b[0;34m,\u001b[0m \u001b[0mnp\u001b[0m\u001b[0;34m.\u001b[0m\u001b[0mones\u001b[0m\u001b[0;34m(\u001b[0m\u001b[0mlen\u001b[0m\u001b[0;34m(\u001b[0m\u001b[0mor_train\u001b[0m\u001b[0;34m)\u001b[0m\u001b[0;34m)\u001b[0m\u001b[0;34m,\u001b[0m  \u001b[0mpos_train\u001b[0m \u001b[0;34m,\u001b[0m \u001b[0mnp\u001b[0m\u001b[0;34m.\u001b[0m\u001b[0mones\u001b[0m\u001b[0;34m(\u001b[0m\u001b[0mlen\u001b[0m\u001b[0;34m(\u001b[0m\u001b[0mor_train\u001b[0m\u001b[0;34m)\u001b[0m\u001b[0;34m)\u001b[0m \u001b[0;34m,\u001b[0m \u001b[0mrbins\u001b[0m\u001b[0;34m,\u001b[0m \u001b[0mperiod\u001b[0m\u001b[0;34m=\u001b[0m\u001b[0;32mNone\u001b[0m\u001b[0;34m,\u001b[0m \u001b[0mnum_threads\u001b[0m\u001b[0;34m=\u001b[0m\u001b[0;36m28\u001b[0m\u001b[0;34m)\u001b[0m\u001b[0;34m\u001b[0m\u001b[0;34m\u001b[0m\u001b[0m\n",
      "\u001b[0;31mNameError\u001b[0m: name 'dm_av_x_pred' is not defined"
     ]
    }
   ],
   "source": [
    "pos_train = np.array([gal_pos_x_train, gal_pos_y_train, gal_pos_z_train]).T\n",
    "pos_test = np.array([gal_pos_x_test, gal_pos_y_test, gal_pos_z_test]).T\n",
    "\n",
    "or_train = np.array([dm_av_x_train, dm_av_y_train, dm_av_z_train]).T \n",
    "or_pred = np.array([dm_av_x_pred, dm_av_y_pred, dm_av_z_pred]).T \n",
    "rbins = np.logspace(-1.5,1.5,16)\n",
    "ed1h,ed2h = ed_3d_one_two_halo_decomp(pos_train , or_train , np.ones(len(or_train)),  pos_train , np.ones(len(or_train)) , rbins, period=None, num_threads=28)\n",
    "ed1h2,ed2h2 = ed_3d_one_two_halo_decomp(pos_test , or_pred , np.ones(len(or_pred)),  pos_test , np.ones(len(or_pred)), rbins, period=None, num_threads=28)\n",
    "plt.figure()\n",
    "plot(rbins[1:] + rbins[:-1],  (ed1h+ed2h),label='TNG100')\n",
    "plot(rbins[1:] + rbins[:-1],  (ed1h))\n",
    "plot(rbins[1:] + rbins[:-1],  (ed2h))\n",
    "\n",
    "plot(rbins[1:] + rbins[:-1],  (ed1h2),':',label='predicted',lw=2)\n",
    "plot(rbins[1:] + rbins[:-1],  (ed2h2),'--',lw=2)\n",
    "plot(rbins[1:] + rbins[:-1],  (ed1h2+ed2h2),':',lw=2)\n",
    "ylim(0.0001, 0.5)\n",
    "legend()\n",
    "title('step:' +str(step))\n",
    "ylabel('ED')\n",
    "xlabel('r (Mpc)')\n",
    "xscale('log')\n",
    "yscale('log')\n",
    "xlim(0.1,50)\n",
    "title('Centrals only', fontsize=20)"
   ]
  },
  {
   "cell_type": "code",
   "execution_count": 129,
   "metadata": {},
   "outputs": [
    {
     "ename": "NameError",
     "evalue": "name 'dm_av_x_pred' is not defined",
     "output_type": "error",
     "traceback": [
      "\u001b[0;31m---------------------------------------------------------------------------\u001b[0m",
      "\u001b[0;31mNameError\u001b[0m                                 Traceback (most recent call last)",
      "\u001b[0;32m/tmp/ipykernel_2937652/125125429.py\u001b[0m in \u001b[0;36m<module>\u001b[0;34m\u001b[0m\n\u001b[1;32m      3\u001b[0m \u001b[0;34m\u001b[0m\u001b[0m\n\u001b[1;32m      4\u001b[0m \u001b[0mor_train\u001b[0m \u001b[0;34m=\u001b[0m \u001b[0mnp\u001b[0m\u001b[0;34m.\u001b[0m\u001b[0marray\u001b[0m\u001b[0;34m(\u001b[0m\u001b[0;34m[\u001b[0m\u001b[0mdm_av_x_train\u001b[0m\u001b[0;34m,\u001b[0m \u001b[0mdm_av_y_train\u001b[0m\u001b[0;34m,\u001b[0m \u001b[0mdm_av_z_train\u001b[0m\u001b[0;34m]\u001b[0m\u001b[0;34m)\u001b[0m\u001b[0;34m.\u001b[0m\u001b[0mT\u001b[0m\u001b[0;34m\u001b[0m\u001b[0;34m\u001b[0m\u001b[0m\n\u001b[0;32m----> 5\u001b[0;31m \u001b[0mor_pred\u001b[0m \u001b[0;34m=\u001b[0m \u001b[0mnp\u001b[0m\u001b[0;34m.\u001b[0m\u001b[0marray\u001b[0m\u001b[0;34m(\u001b[0m\u001b[0;34m[\u001b[0m\u001b[0mdm_av_x_pred\u001b[0m\u001b[0;34m,\u001b[0m \u001b[0mdm_av_y_pred\u001b[0m\u001b[0;34m,\u001b[0m \u001b[0mdm_av_z_pred\u001b[0m\u001b[0;34m]\u001b[0m\u001b[0;34m)\u001b[0m\u001b[0;34m.\u001b[0m\u001b[0mT\u001b[0m\u001b[0;34m\u001b[0m\u001b[0;34m\u001b[0m\u001b[0m\n\u001b[0m\u001b[1;32m      6\u001b[0m \u001b[0mrbins\u001b[0m \u001b[0;34m=\u001b[0m \u001b[0mnp\u001b[0m\u001b[0;34m.\u001b[0m\u001b[0mlogspace\u001b[0m\u001b[0;34m(\u001b[0m\u001b[0;34m-\u001b[0m\u001b[0;36m1.5\u001b[0m\u001b[0;34m,\u001b[0m\u001b[0;36m1.5\u001b[0m\u001b[0;34m,\u001b[0m\u001b[0;36m16\u001b[0m\u001b[0;34m)\u001b[0m\u001b[0;34m\u001b[0m\u001b[0;34m\u001b[0m\u001b[0m\n\u001b[1;32m      7\u001b[0m \u001b[0med1h\u001b[0m\u001b[0;34m,\u001b[0m\u001b[0med2h\u001b[0m \u001b[0;34m=\u001b[0m \u001b[0med_3d_one_two_halo_decomp\u001b[0m\u001b[0;34m(\u001b[0m\u001b[0mpos_train\u001b[0m \u001b[0;34m,\u001b[0m \u001b[0mor_train\u001b[0m \u001b[0;34m,\u001b[0m \u001b[0mnp\u001b[0m\u001b[0;34m.\u001b[0m\u001b[0mones\u001b[0m\u001b[0;34m(\u001b[0m\u001b[0mlen\u001b[0m\u001b[0;34m(\u001b[0m\u001b[0mor_train\u001b[0m\u001b[0;34m)\u001b[0m\u001b[0;34m)\u001b[0m\u001b[0;34m,\u001b[0m  \u001b[0mpos_train\u001b[0m \u001b[0;34m,\u001b[0m \u001b[0mnp\u001b[0m\u001b[0;34m.\u001b[0m\u001b[0mones\u001b[0m\u001b[0;34m(\u001b[0m\u001b[0mlen\u001b[0m\u001b[0;34m(\u001b[0m\u001b[0mor_train\u001b[0m\u001b[0;34m)\u001b[0m\u001b[0;34m)\u001b[0m \u001b[0;34m,\u001b[0m \u001b[0mrbins\u001b[0m\u001b[0;34m,\u001b[0m \u001b[0mperiod\u001b[0m\u001b[0;34m=\u001b[0m\u001b[0;32mNone\u001b[0m\u001b[0;34m,\u001b[0m \u001b[0mnum_threads\u001b[0m\u001b[0;34m=\u001b[0m\u001b[0;36m28\u001b[0m\u001b[0;34m)\u001b[0m\u001b[0;34m\u001b[0m\u001b[0;34m\u001b[0m\u001b[0m\n",
      "\u001b[0;31mNameError\u001b[0m: name 'dm_av_x_pred' is not defined"
     ]
    }
   ],
   "source": [
    "pos_train = np.array([gal_pos_x_train, gal_pos_y_train, gal_pos_z_train]).T\n",
    "pos_test = np.array([gal_pos_x_test, gal_pos_y_test, gal_pos_z_test]).T\n",
    "\n",
    "or_train = np.array([dm_av_x_train, dm_av_y_train, dm_av_z_train]).T \n",
    "or_pred = np.array([dm_av_x_pred, dm_av_y_pred, dm_av_z_pred]).T \n",
    "rbins = np.logspace(-1.5,1.5,16)\n",
    "ed1h,ed2h = ed_3d_one_two_halo_decomp(pos_train , or_train , np.ones(len(or_train)),  pos_train , np.ones(len(or_train)) , rbins, period=None, num_threads=28)\n",
    "ed1h2,ed2h2 = ed_3d_one_two_halo_decomp(pos_test , or_pred , np.ones(len(or_pred)),  pos_test , np.ones(len(or_pred)), rbins, period=None, num_threads=28)\n"
   ]
  },
  {
   "cell_type": "code",
   "execution_count": 130,
   "metadata": {},
   "outputs": [
    {
     "ename": "NameError",
     "evalue": "name 'rbins' is not defined",
     "output_type": "error",
     "traceback": [
      "\u001b[0;31m---------------------------------------------------------------------------\u001b[0m",
      "\u001b[0;31mNameError\u001b[0m                                 Traceback (most recent call last)",
      "\u001b[0;32m/tmp/ipykernel_2937652/1022775594.py\u001b[0m in \u001b[0;36m<module>\u001b[0;34m\u001b[0m\n\u001b[1;32m      1\u001b[0m \u001b[0mplt\u001b[0m\u001b[0;34m.\u001b[0m\u001b[0mfigure\u001b[0m\u001b[0;34m(\u001b[0m\u001b[0;34m)\u001b[0m\u001b[0;34m\u001b[0m\u001b[0;34m\u001b[0m\u001b[0m\n\u001b[0;32m----> 2\u001b[0;31m \u001b[0mplot\u001b[0m\u001b[0;34m(\u001b[0m\u001b[0mrbins\u001b[0m\u001b[0;34m[\u001b[0m\u001b[0;36m1\u001b[0m\u001b[0;34m:\u001b[0m\u001b[0;34m]\u001b[0m \u001b[0;34m+\u001b[0m \u001b[0mrbins\u001b[0m\u001b[0;34m[\u001b[0m\u001b[0;34m:\u001b[0m\u001b[0;34m-\u001b[0m\u001b[0;36m1\u001b[0m\u001b[0;34m]\u001b[0m\u001b[0;34m,\u001b[0m  \u001b[0;34m(\u001b[0m\u001b[0med1h\u001b[0m\u001b[0;34m+\u001b[0m\u001b[0med2h\u001b[0m\u001b[0;34m)\u001b[0m\u001b[0;34m,\u001b[0m\u001b[0mlabel\u001b[0m\u001b[0;34m=\u001b[0m\u001b[0;34m'TNG100'\u001b[0m\u001b[0;34m)\u001b[0m\u001b[0;34m\u001b[0m\u001b[0;34m\u001b[0m\u001b[0m\n\u001b[0m\u001b[1;32m      3\u001b[0m \u001b[0mplot\u001b[0m\u001b[0;34m(\u001b[0m\u001b[0mrbins\u001b[0m\u001b[0;34m[\u001b[0m\u001b[0;36m1\u001b[0m\u001b[0;34m:\u001b[0m\u001b[0;34m]\u001b[0m \u001b[0;34m+\u001b[0m \u001b[0mrbins\u001b[0m\u001b[0;34m[\u001b[0m\u001b[0;34m:\u001b[0m\u001b[0;34m-\u001b[0m\u001b[0;36m1\u001b[0m\u001b[0;34m]\u001b[0m\u001b[0;34m,\u001b[0m  \u001b[0;34m(\u001b[0m\u001b[0med1h\u001b[0m\u001b[0;34m)\u001b[0m\u001b[0;34m)\u001b[0m\u001b[0;34m\u001b[0m\u001b[0;34m\u001b[0m\u001b[0m\n\u001b[1;32m      4\u001b[0m \u001b[0mplot\u001b[0m\u001b[0;34m(\u001b[0m\u001b[0mrbins\u001b[0m\u001b[0;34m[\u001b[0m\u001b[0;36m1\u001b[0m\u001b[0;34m:\u001b[0m\u001b[0;34m]\u001b[0m \u001b[0;34m+\u001b[0m \u001b[0mrbins\u001b[0m\u001b[0;34m[\u001b[0m\u001b[0;34m:\u001b[0m\u001b[0;34m-\u001b[0m\u001b[0;36m1\u001b[0m\u001b[0;34m]\u001b[0m\u001b[0;34m,\u001b[0m  \u001b[0;34m(\u001b[0m\u001b[0med2h\u001b[0m\u001b[0;34m)\u001b[0m\u001b[0;34m)\u001b[0m\u001b[0;34m\u001b[0m\u001b[0;34m\u001b[0m\u001b[0m\n\u001b[1;32m      5\u001b[0m \u001b[0;34m\u001b[0m\u001b[0m\n",
      "\u001b[0;31mNameError\u001b[0m: name 'rbins' is not defined"
     ]
    },
    {
     "data": {
      "text/plain": [
       "<Figure size 432x288 with 0 Axes>"
      ]
     },
     "metadata": {},
     "output_type": "display_data"
    }
   ],
   "source": [
    "plt.figure()\n",
    "plot(rbins[1:] + rbins[:-1],  (ed1h+ed2h),label='TNG100')\n",
    "plot(rbins[1:] + rbins[:-1],  (ed1h))\n",
    "plot(rbins[1:] + rbins[:-1],  (ed2h))\n",
    "\n",
    "plot(rbins[1:] + rbins[:-1],  (ed1h2),':',label='predicted',lw=2)\n",
    "plot(rbins[1:] + rbins[:-1],  (ed2h2),'--',lw=2)\n",
    "plot(rbins[1:] + rbins[:-1],  (ed1h2+ed2h2),':',lw=2)\n",
    "ylim(0.0001, 0.5)\n",
    "legend()\n",
    "title('step:' +str(step))\n",
    "ylabel('ED')\n",
    "xlabel('r (Mpc)')\n",
    "xscale('log')\n",
    "yscale('log')\n",
    "xlim(0.1,50)\n",
    "title('Central+Sat.', fontsize=20)"
   ]
  },
  {
   "cell_type": "code",
   "execution_count": null,
   "metadata": {},
   "outputs": [],
   "source": []
  },
  {
   "cell_type": "code",
   "execution_count": null,
   "metadata": {},
   "outputs": [],
   "source": []
  },
  {
   "cell_type": "code",
   "execution_count": null,
   "metadata": {},
   "outputs": [],
   "source": []
  },
  {
   "cell_type": "code",
   "execution_count": null,
   "metadata": {},
   "outputs": [],
   "source": []
  }
 ],
 "metadata": {
  "kernelspec": {
   "display_name": "test-tf3",
   "language": "python",
   "name": "test-tf3"
  },
  "language_info": {
   "codemirror_mode": {
    "name": "ipython",
    "version": 3
   },
   "file_extension": ".py",
   "mimetype": "text/x-python",
   "name": "python",
   "nbconvert_exporter": "python",
   "pygments_lexer": "ipython3",
   "version": "3.9.7"
  }
 },
 "nbformat": 4,
 "nbformat_minor": 5
}
