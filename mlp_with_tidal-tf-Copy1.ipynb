{
 "cells": [
  {
   "cell_type": "code",
   "execution_count": 1,
   "metadata": {},
   "outputs": [
    {
     "name": "stdout",
     "output_type": "stream",
     "text": [
      "Populating the interactive namespace from numpy and matplotlib\n"
     ]
    },
    {
     "data": {
      "text/html": [
       "<style>.container { width:100% !important; }</style>"
      ],
      "text/plain": [
       "<IPython.core.display.HTML object>"
      ]
     },
     "metadata": {},
     "output_type": "display_data"
    }
   ],
   "source": [
    "\n",
    "%pylab inline\n",
    "import illustris_python as il \n",
    "from sklearn.neural_network import MLPRegressor \n",
    "from sklearn.datasets import make_regression \n",
    "from sklearn.model_selection  import train_test_split \n",
    "\n",
    "from IPython.core.display import display, HTML\n",
    "display(HTML(\"<style>.container { width:100% !important; }</style>\"))\n",
    " \n",
    "from sklearn.model_selection import train_test_split \n",
    "from sklearn.neural_network import MLPRegressor\n",
    "from halotools_ia.correlation_functions  import ed_3d,ee_3d, ed_3d_one_two_halo_decomp\n"
   ]
  },
  {
   "cell_type": "code",
   "execution_count": 2,
   "metadata": {},
   "outputs": [
    {
     "name": "stdout",
     "output_type": "stream",
     "text": [
      "Populating the interactive namespace from numpy and matplotlib\n"
     ]
    },
    {
     "data": {
      "text/html": [
       "<style>.container { width:100% !important; }</style>"
      ],
      "text/plain": [
       "<IPython.core.display.HTML object>"
      ]
     },
     "metadata": {},
     "output_type": "display_data"
    },
    {
     "name": "stdout",
     "output_type": "stream",
     "text": [
      "WARNING:tensorflow:From /hildafs/home/yjagvara/.local/lib/python3.8/site-packages/tensorflow_gan/python/estimator/tpu_gan_estimator.py:42: The name tf.estimator.tpu.TPUEstimator is deprecated. Please use tf.compat.v1.estimator.tpu.TPUEstimator instead.\n",
      "\n",
      " Available:  [PhysicalDevice(name='/physical_device:GPU:0', device_type='GPU')]\n"
     ]
    }
   ],
   "source": [
    "%pylab inline\n",
    "#%load_ext autoreload\n",
    "#%autoreload 2\n",
    "import os\n",
    "from IPython.core.display import display, HTML\n",
    "display(HTML(\"<style>.container { width:100% !important; }</style>\"))\n",
    "os.environ[\"CUDA_VISIBLE_DEVICES\"] = \"0\"\n",
    "\n",
    "import sys\n",
    "sys.path.insert(0, '..')\n",
    "import tensorflow as tf\n",
    "import tf_slim as slim\n",
    "from graphgan.utils import get_3d_direction\n",
    "from graphgan.layers import *\n",
    "from graphgan.gradient_penalty import gradient_penaly\n",
    "from graphgan.datasets import graph_input_fn\n",
    "from astropy.table import Table, join\n",
    "from functools import partial\n",
    "from halotools_ia.correlation_functions  import ed_3d,ee_3d, ed_3d_one_two_halo_decomp\n",
    "print(\" Available: \",  (tf.config.list_physical_devices('GPU')))\n",
    "from tensorflow.keras import *\n",
    "from tensorflow.keras.layers import *\n",
    "from tensorflow.keras.optimizers import *\n",
    "from tensorflow.keras.callbacks import *\n",
    "import keras.backend as K"
   ]
  },
  {
   "cell_type": "code",
   "execution_count": 3,
   "metadata": {},
   "outputs": [],
   "source": [
    "# data iformation\n",
    "input_dim = 9 # number of input features\n",
    "number_of_classes = 3 # number of classes\n",
    " # initial hyperparameters\n",
    "dense_1_size = 32\n",
    "dense_2_size = 16\n",
    "learning_rate = 0.05\n",
    "\n",
    "# define model architecture\n",
    "model = Sequential()\n",
    "model.add(Dense(dense_1_size, activation=\"relu\", input_dim=input_dim))\n",
    "model.add(Dense(dense_2_size, activation=\"relu\"))\n",
    "model.add(Dense(3))\n",
    "model.add(Lambda(lambda x: K.l2_normalize(x, axis=-1)))\n",
    "# compile the model\n",
    "opt = Adam(learning_rate=learning_rate)\n",
    "model.compile(optimizer=opt, loss=\"mean_squared_error\")"
   ]
  },
  {
   "cell_type": "code",
   "execution_count": 16,
   "metadata": {},
   "outputs": [],
   "source": [
    "import pickle\n",
    "from astropy.table import Table, join\n",
    "from pandas import *\n",
    "\n",
    "tng = pickle.load(  open('/hildafs/projects/phy200017p/yjagvara/some_data/TNG100-1_99_non-reduced_galaxy_shapes_multi_scale_256.pkl', \"rb\" ) )\n",
    "\n",
    "tng = Table.from_pandas(DataFrame(tng))\n",
    "tng = tng[tng['dm_mass']>0]\n",
    "#tng = tng[tng['central_bool']>0]\n",
    "tid_av_x_train, tid_av_x_test,\\\n",
    "tid_av_y_train, tid_av_y_test,\\\n",
    "tid_av_z_train, tid_av_z_test,\\\n",
    "tid_bv_x_train,tid_bv_x_test,\\\n",
    "tid_bv_y_train, tid_bv_y_test,\\\n",
    "tid_bv_z_train, tid_bv_z_test,\\\n",
    "tid_cv_x_train, tid_cv_x_test,\\\n",
    "tid_cv_y_train, tid_cv_y_test,\\\n",
    "tid_cv_z_train, tid_cv_z_test,\\\n",
    "dm_av_x_train,  dm_av_x_test,\\\n",
    "dm_av_y_train,  dm_av_y_test,\\\n",
    "dm_av_z_train, dm_av_z_test,\\\n",
    "gal_pos_x_train, gal_pos_x_test,\\\n",
    "gal_pos_y_train, gal_pos_y_test,\\\n",
    "gal_pos_z_train, gal_pos_z_test = train_test_split( (tng['tid_av_x_0.1_256']),  (tng['tid_av_y_0.1_256']),  (tng['tid_av_z_0.1_256']),\n",
    "                                        (tng['tid_bv_x_0.1_256']),  (tng['tid_bv_y_0.1_256']),  (tng['tid_bv_z_0.1_256']),\n",
    "                                       ( tng['tid_cv_x_0.1_256']),  (tng['tid_cv_y_0.1_256']),  (tng['tid_cv_z_0.1_256']),\n",
    "                                               (tng['dm_av_x']),   (tng['dm_av_y']),   (tng['dm_av_z']),\n",
    "                                                tng['gal_pos_x'], tng['gal_pos_y'], tng['gal_pos_z'],random_state=0,test_size=0.5)\n",
    " \n",
    "# subhalo_mass_train=subhalo_mass_train.reshape(-1,1)\n",
    "# subhalo_mass_test=subhalo_mass_test.reshape(-1,1)\n",
    "# stellar_mass_train=stellar_mass_train.reshape(-1,1)\n",
    "\n",
    "X = np.vstack((tid_av_x_train, tid_av_y_train, tid_av_z_train, \\\n",
    "tid_bv_x_train, tid_bv_y_train, tid_bv_z_train, \\\n",
    "tid_cv_x_train, tid_cv_y_train, tid_cv_z_train)).T\n",
    "Y = np.vstack((dm_av_x_train, dm_av_y_train,   dm_av_z_train)).T\n",
    "\n",
    "X_test = np.vstack((tid_av_x_test, tid_av_y_test, tid_av_z_test, \\\n",
    "tid_bv_x_test, tid_bv_y_test, tid_bv_z_test, \\\n",
    "tid_cv_x_test, tid_cv_y_test, tid_cv_z_test)).T\n",
    "Y_test = np.vstack((dm_av_x_test, dm_av_y_test,   dm_av_z_test)).T"
   ]
  },
  {
   "cell_type": "code",
   "execution_count": 17,
   "metadata": {},
   "outputs": [
    {
     "data": {
      "text/plain": [
       "<tensorflow.python.keras.callbacks.History at 0x1508b028a790>"
      ]
     },
     "execution_count": 17,
     "metadata": {},
     "output_type": "execute_result"
    }
   ],
   "source": [
    "batch_size = min(200, np.array(tng).shape[0])\n",
    "epochs = 500\n",
    "      \n",
    "stratify =   None\n",
    "# X_train, X_vald, y_train, y_vald = train_test_split(\n",
    "#     X, y, test_size=0.1, shuffle=True, stratify=stratify\n",
    "# )\n",
    "# set callbacks\n",
    "es = EarlyStopping(monitor=\"val_loss\", mode=\"min\", verbose=0, patience=10)\n",
    "mc = ModelCheckpoint(\n",
    "    \"best_model.h5\",\n",
    "    monitor=\"val_loss\",\n",
    "    mode=\"min\",\n",
    "    verbose=0,\n",
    "    save_best_only=True,\n",
    ")\n",
    "\n",
    "model.fit(\n",
    "    X,\n",
    "    Y,\n",
    "    validation_data=(X_test, Y_test),\n",
    "    batch_size=batch_size,\n",
    "    epochs=500,\n",
    "    verbose=False,\n",
    "    callbacks=[es, mc],\n",
    ")"
   ]
  },
  {
   "cell_type": "code",
   "execution_count": 18,
   "metadata": {},
   "outputs": [],
   "source": [
    "Y_pred = model.predict(X_test)  "
   ]
  },
  {
   "cell_type": "code",
   "execution_count": 19,
   "metadata": {},
   "outputs": [
    {
     "data": {
      "text/plain": [
       "Text(0.5, 0, 'Predicted (Normalized)')"
      ]
     },
     "execution_count": 19,
     "metadata": {},
     "output_type": "execute_result"
    },
    {
     "data": {
      "image/png": "[encoded data removed]",
      "text/plain": [
       "<Figure size 432x288 with 1 Axes>"
      ]
     },
     "metadata": {
      "needs_background": "light"
     },
     "output_type": "display_data"
    }
   ],
   "source": [
    "h=hist(Y_pred,bins=30)\n",
    "xlabel('Predicted (Normalized)')"
   ]
  },
  {
   "cell_type": "code",
   "execution_count": 20,
   "metadata": {},
   "outputs": [
    {
     "data": {
      "text/plain": [
       "Text(0.5, 0, 'Actual (Normalized)')"
      ]
     },
     "execution_count": 20,
     "metadata": {},
     "output_type": "execute_result"
    },
    {
     "data": {
      "image/png": "[encoded data removed]",
      "text/plain": [
       "<Figure size 432x288 with 1 Axes>"
      ]
     },
     "metadata": {
      "needs_background": "light"
     },
     "output_type": "display_data"
    }
   ],
   "source": [
    "h=hist(Y_test,bins=30)\n",
    "xlabel('Actual (Normalized)')"
   ]
  },
  {
   "cell_type": "code",
   "execution_count": null,
   "metadata": {},
   "outputs": [],
   "source": []
  },
  {
   "cell_type": "code",
   "execution_count": null,
   "metadata": {},
   "outputs": [],
   "source": []
  },
  {
   "cell_type": "code",
   "execution_count": null,
   "metadata": {},
   "outputs": [],
   "source": []
  },
  {
   "cell_type": "code",
   "execution_count": 21,
   "metadata": {},
   "outputs": [],
   "source": [
    "\n",
    "dm_av_x_pred = Y_pred[:,0]\n",
    "dm_av_y_pred = Y_pred[:,1]\n",
    "dm_av_z_pred = Y_pred[:,2]"
   ]
  },
  {
   "cell_type": "code",
   "execution_count": 22,
   "metadata": {},
   "outputs": [
    {
     "data": {
      "text/plain": [
       "(array([4455., 4179., 3947., 3315., 2762., 2360., 1776., 1168.,  851.,\n",
       "         556.]),\n",
       " array([-9.99951265e-01, -7.99992850e-01, -6.00034435e-01, -4.00076020e-01,\n",
       "        -2.00117605e-01, -1.59190136e-04,  1.99799225e-01,  3.99757640e-01,\n",
       "         5.99716055e-01,  7.99674470e-01,  9.99632884e-01]),\n",
       " <a list of 10 Patch objects>)"
      ]
     },
     "execution_count": 22,
     "metadata": {},
     "output_type": "execute_result"
    },
    {
     "data": {
      "image/png": "[encoded data removed]",
      "text/plain": [
       "<Figure size 432x288 with 1 Axes>"
      ]
     },
     "metadata": {
      "needs_background": "light"
     },
     "output_type": "display_data"
    }
   ],
   "source": [
    "hist( (dm_av_x_pred),alpha=0.5)\n",
    "hist( (dm_av_x_test),alpha=0.5)"
   ]
  },
  {
   "cell_type": "code",
   "execution_count": 23,
   "metadata": {},
   "outputs": [
    {
     "data": {
      "text/plain": [
       "(array([2560., 2451., 2521., 2489., 2468., 2566., 2541., 2576., 2568.,\n",
       "        2629.]),\n",
       " array([-9.99868513e-01, -7.99901257e-01, -5.99934000e-01, -3.99966744e-01,\n",
       "        -1.99999487e-01, -3.22302907e-05,  1.99935026e-01,  3.99902283e-01,\n",
       "         5.99869540e-01,  7.99836796e-01,  9.99804053e-01]),\n",
       " <a list of 10 Patch objects>)"
      ]
     },
     "execution_count": 23,
     "metadata": {},
     "output_type": "execute_result"
    },
    {
     "data": {
      "image/png": "[encoded data removed]",
      "text/plain": [
       "<Figure size 432x288 with 1 Axes>"
      ]
     },
     "metadata": {
      "needs_background": "light"
     },
     "output_type": "display_data"
    }
   ],
   "source": [
    "hist( (dm_av_y_pred),alpha=0.5)\n",
    "hist( (dm_av_y_test),alpha=0.5)"
   ]
  },
  {
   "cell_type": "code",
   "execution_count": 24,
   "metadata": {},
   "outputs": [
    {
     "data": {
      "text/plain": [
       "(array([1283., 2163., 2312., 2489., 2455., 2582., 2647., 2806., 2831.,\n",
       "        3801.]),\n",
       " array([-9.99847851e-01, -7.99865019e-01, -5.99882186e-01, -3.99899353e-01,\n",
       "        -1.99916520e-01,  6.63128427e-05,  2.00049146e-01,  4.00031979e-01,\n",
       "         6.00014811e-01,  7.99997644e-01,  9.99980477e-01]),\n",
       " <a list of 10 Patch objects>)"
      ]
     },
     "execution_count": 24,
     "metadata": {},
     "output_type": "execute_result"
    },
    {
     "data": {
      "image/png": "[encoded data removed]",
      "text/plain": [
       "<Figure size 432x288 with 1 Axes>"
      ]
     },
     "metadata": {
      "needs_background": "light"
     },
     "output_type": "display_data"
    }
   ],
   "source": [
    "hist(dm_av_z_pred,alpha=0.5)\n",
    "hist(dm_av_z_test,alpha=0.5)"
   ]
  },
  {
   "cell_type": "code",
   "execution_count": 13,
   "metadata": {},
   "outputs": [
    {
     "data": {
      "text/plain": [
       "Text(0.5, 1.0, 'Centrals only')"
      ]
     },
     "execution_count": 13,
     "metadata": {},
     "output_type": "execute_result"
    },
    {
     "data": {
      "image/png": "[encoded data removed]",
      "text/plain": [
       "<Figure size 432x288 with 1 Axes>"
      ]
     },
     "metadata": {
      "needs_background": "light"
     },
     "output_type": "display_data"
    }
   ],
   "source": [
    "pos_train = np.array([gal_pos_x_train, gal_pos_y_train, gal_pos_z_train]).T\n",
    "pos_test = np.array([gal_pos_x_test, gal_pos_y_test, gal_pos_z_test]).T\n",
    "\n",
    "or_train = np.array([dm_av_x_train, dm_av_y_train, dm_av_z_train]).T \n",
    "or_pred = np.array([dm_av_x_pred, dm_av_y_pred, dm_av_z_pred]).T \n",
    "rbins = np.logspace(-1.5,1.5,16)\n",
    "ed1h,ed2h = ed_3d_one_two_halo_decomp(pos_train , or_train , np.ones(len(or_train)),  pos_train , np.ones(len(or_train)) , rbins, period=None, num_threads=28)\n",
    "ed1h2,ed2h2 = ed_3d_one_two_halo_decomp(pos_test , or_pred , np.ones(len(or_pred)),  pos_test , np.ones(len(or_pred)), rbins, period=None, num_threads=28)\n",
    "plt.figure()\n",
    "plot(rbins[1:] + rbins[:-1],  (ed1h+ed2h),label='TNG100')\n",
    "plot(rbins[1:] + rbins[:-1],  (ed1h))\n",
    "plot(rbins[1:] + rbins[:-1],  (ed2h))\n",
    "\n",
    "plot(rbins[1:] + rbins[:-1],  (ed1h2),':',label='predicted',lw=2)\n",
    "plot(rbins[1:] + rbins[:-1],  (ed2h2),'--',lw=2)\n",
    "plot(rbins[1:] + rbins[:-1],  (ed1h2+ed2h2),':',lw=2)\n",
    "ylim(0.0001, 0.5)\n",
    "legend()\n",
    "title('step:' +str(step))\n",
    "ylabel('ED')\n",
    "xlabel('r (Mpc)')\n",
    "xscale('log')\n",
    "yscale('log')\n",
    "xlim(0.1,50)\n",
    "title('Centrals only', fontsize=20)"
   ]
  },
  {
   "cell_type": "code",
   "execution_count": 25,
   "metadata": {},
   "outputs": [],
   "source": [
    "pos_train = np.array([gal_pos_x_train, gal_pos_y_train, gal_pos_z_train]).T\n",
    "pos_test = np.array([gal_pos_x_test, gal_pos_y_test, gal_pos_z_test]).T\n",
    "\n",
    "or_train = np.array([dm_av_x_train, dm_av_y_train, dm_av_z_train]).T \n",
    "or_pred = np.array([dm_av_x_pred, dm_av_y_pred, dm_av_z_pred]).T \n",
    "rbins = np.logspace(-1.5,1.5,16)\n",
    "ed1h,ed2h = ed_3d_one_two_halo_decomp(pos_train , or_train , np.ones(len(or_train)),  pos_train , np.ones(len(or_train)) , rbins, period=None, num_threads=28)\n",
    "ed1h2,ed2h2 = ed_3d_one_two_halo_decomp(pos_test , or_pred , np.ones(len(or_pred)),  pos_test , np.ones(len(or_pred)), rbins, period=None, num_threads=28)\n"
   ]
  },
  {
   "cell_type": "code",
   "execution_count": 26,
   "metadata": {},
   "outputs": [
    {
     "data": {
      "text/plain": [
       "Text(0.5, 1.0, 'Central+Sat.')"
      ]
     },
     "execution_count": 26,
     "metadata": {},
     "output_type": "execute_result"
    },
    {
     "data": {
      "image/png": "[encoded data removed]",
      "text/plain": [
       "<Figure size 432x288 with 1 Axes>"
      ]
     },
     "metadata": {
      "needs_background": "light"
     },
     "output_type": "display_data"
    }
   ],
   "source": [
    "plt.figure()\n",
    "plot(rbins[1:] + rbins[:-1],  (ed1h+ed2h),label='TNG100')\n",
    "plot(rbins[1:] + rbins[:-1],  (ed1h))\n",
    "plot(rbins[1:] + rbins[:-1],  (ed2h))\n",
    "\n",
    "plot(rbins[1:] + rbins[:-1],  (ed1h2),':',label='predicted',lw=2)\n",
    "plot(rbins[1:] + rbins[:-1],  (ed2h2),'--',lw=2)\n",
    "plot(rbins[1:] + rbins[:-1],  (ed1h2+ed2h2),':',lw=2)\n",
    "ylim(0.0001, 0.5)\n",
    "legend()\n",
    "title('step:' +str(step))\n",
    "ylabel('ED')\n",
    "xlabel('r (Mpc)')\n",
    "xscale('log')\n",
    "yscale('log')\n",
    "xlim(0.1,50)\n",
    "title('Central+Sat.', fontsize=20)"
   ]
  },
  {
   "cell_type": "code",
   "execution_count": null,
   "metadata": {},
   "outputs": [],
   "source": []
  },
  {
   "cell_type": "code",
   "execution_count": null,
   "metadata": {},
   "outputs": [],
   "source": []
  },
  {
   "cell_type": "code",
   "execution_count": null,
   "metadata": {},
   "outputs": [],
   "source": []
  },
  {
   "cell_type": "code",
   "execution_count": null,
   "metadata": {},
   "outputs": [],
   "source": []
  }
 ],
 "metadata": {
  "kernelspec": {
   "display_name": "Python 3",
   "language": "python",
   "name": "python3"
  },
  "language_info": {
   "codemirror_mode": {
    "name": "ipython",
    "version": 3
   },
   "file_extension": ".py",
   "mimetype": "text/x-python",
   "name": "python",
   "nbconvert_exporter": "python",
   "pygments_lexer": "ipython3",
   "version": "3.8.3"
  }
 },
 "nbformat": 4,
 "nbformat_minor": 5
}
