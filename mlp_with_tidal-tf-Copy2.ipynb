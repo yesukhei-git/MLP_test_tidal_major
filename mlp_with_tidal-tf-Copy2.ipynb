{
 "cells": [
  {
   "cell_type": "code",
   "execution_count": 1,
   "id": "48f877c5",
   "metadata": {},
   "outputs": [
    {
     "name": "stdout",
     "output_type": "stream",
     "text": [
      "Populating the interactive namespace from numpy and matplotlib\n"
     ]
    },
    {
     "data": {
      "text/html": [
       "<style>.container { width:100% !important; }</style>"
      ],
      "text/plain": [
       "<IPython.core.display.HTML object>"
      ]
     },
     "metadata": {},
     "output_type": "display_data"
    }
   ],
   "source": [
    "\n",
    "%pylab inline\n",
    "import illustris_python as il \n",
    "from sklearn.neural_network import MLPRegressor \n",
    "from sklearn.datasets import make_regression \n",
    "from sklearn.model_selection  import train_test_split \n",
    "\n",
    "from IPython.core.display import display, HTML\n",
    "display(HTML(\"<style>.container { width:100% !important; }</style>\"))\n",
    " \n",
    "from sklearn.model_selection import train_test_split \n",
    "from sklearn.neural_network import MLPRegressor\n",
    "import  halotools\n",
    "from halotools_ia.correlation_functions  import ed_3d,ee_3d, ed_3d_one_two_halo_decomp\n"
   ]
  },
  {
   "cell_type": "code",
   "execution_count": 2,
   "id": "48937470",
   "metadata": {},
   "outputs": [
    {
     "name": "stdout",
     "output_type": "stream",
     "text": [
      "Populating the interactive namespace from numpy and matplotlib\n"
     ]
    },
    {
     "name": "stderr",
     "output_type": "stream",
     "text": [
      "2021-11-07 15:18:12.882730: W tensorflow/stream_executor/platform/default/dso_loader.cc:64] Could not load dynamic library 'libcudart.so.11.0'; dlerror: libcudart.so.11.0: cannot open shared object file: No such file or directory\n",
      "2021-11-07 15:18:12.882769: I tensorflow/stream_executor/cuda/cudart_stub.cc:29] Ignore above cudart dlerror if you do not have a GPU set up on your machine.\n"
     ]
    },
    {
     "name": "stdout",
     "output_type": "stream",
     "text": [
      " Available:  []\n"
     ]
    },
    {
     "name": "stderr",
     "output_type": "stream",
     "text": [
      "2021-11-07 15:18:16.884137: W tensorflow/stream_executor/platform/default/dso_loader.cc:64] Could not load dynamic library 'libcudart.so.11.0'; dlerror: libcudart.so.11.0: cannot open shared object file: No such file or directory\n",
      "2021-11-07 15:18:16.884848: W tensorflow/stream_executor/platform/default/dso_loader.cc:64] Could not load dynamic library 'libcublas.so.11'; dlerror: libcublas.so.11: cannot open shared object file: No such file or directory\n",
      "2021-11-07 15:18:16.885196: W tensorflow/stream_executor/platform/default/dso_loader.cc:64] Could not load dynamic library 'libcublasLt.so.11'; dlerror: libcublasLt.so.11: cannot open shared object file: No such file or directory\n",
      "2021-11-07 15:18:16.885444: W tensorflow/stream_executor/platform/default/dso_loader.cc:64] Could not load dynamic library 'libcufft.so.10'; dlerror: libcufft.so.10: cannot open shared object file: No such file or directory\n",
      "2021-11-07 15:18:16.885847: W tensorflow/stream_executor/platform/default/dso_loader.cc:64] Could not load dynamic library 'libcurand.so.10'; dlerror: libcurand.so.10: cannot open shared object file: No such file or directory\n",
      "2021-11-07 15:18:16.886112: W tensorflow/stream_executor/platform/default/dso_loader.cc:64] Could not load dynamic library 'libcusolver.so.11'; dlerror: libcusolver.so.11: cannot open shared object file: No such file or directory\n",
      "2021-11-07 15:18:16.886347: W tensorflow/stream_executor/platform/default/dso_loader.cc:64] Could not load dynamic library 'libcusparse.so.11'; dlerror: libcusparse.so.11: cannot open shared object file: No such file or directory\n",
      "2021-11-07 15:18:16.886583: W tensorflow/stream_executor/platform/default/dso_loader.cc:64] Could not load dynamic library 'libcudnn.so.8'; dlerror: libcudnn.so.8: cannot open shared object file: No such file or directory\n",
      "2021-11-07 15:18:16.887181: W tensorflow/core/common_runtime/gpu/gpu_device.cc:1850] Cannot dlopen some GPU libraries. Please make sure the missing libraries mentioned above are installed properly if you would like to use GPU. Follow the guide at https://www.tensorflow.org/install/gpu for how to download and setup the required libraries for your platform.\n",
      "Skipping registering GPU devices...\n"
     ]
    }
   ],
   "source": [
    "%pylab inline\n",
    "#%load_ext autoreload\n",
    "#%autoreload 2\n",
    "import os\n",
    " \n",
    "os.environ[\"CUDA_VISIBLE_DEVICES\"] = \"0\"\n",
    "\n",
    "import sys\n",
    "sys.path.insert(0, '..')\n",
    "import tensorflow as tf\n",
    " \n",
    " \n",
    "from functools import partial\n",
    "print(\" Available: \",  (tf.config.list_physical_devices('GPU')))\n",
    "from tensorflow.keras import *\n",
    "from tensorflow.keras.layers import *\n",
    "from tensorflow.keras.optimizers import *\n",
    "from tensorflow.keras.callbacks import *\n",
    "import keras.backend as K"
   ]
  },
  {
   "cell_type": "code",
   "execution_count": null,
   "id": "e61c0388",
   "metadata": {},
   "outputs": [],
   "source": []
  },
  {
   "cell_type": "code",
   "execution_count": 6,
   "id": "7add86d5",
   "metadata": {},
   "outputs": [
    {
     "name": "stdout",
     "output_type": "stream",
     "text": [
      "KerasTensor(type_spec=TensorSpec(shape=(None, 3), dtype=tf.float32, name=None), name='lambda_6/l2_normalize:0', description=\"created by layer 'lambda_6'\")\n"
     ]
    },
    {
     "data": {
      "text/plain": [
       "Text(0.5, 1.0, 'Centrals only')"
      ]
     },
     "execution_count": 6,
     "metadata": {},
     "output_type": "execute_result"
    },
    {
     "data": {
      "image/png": "[encoded data removed]",
      "text/plain": [
       "<Figure size 432x288 with 1 Axes>"
      ]
     },
     "metadata": {
      "needs_background": "light"
     },
     "output_type": "display_data"
    }
   ],
   "source": [
    "import tensorflow_probability as tfp\n",
    "# data iformation\n",
    "input_dim = 9 # number of input features\n",
    "number_of_classes = 3 # number of classes\n",
    " \n",
    "dense_1_size = 32\n",
    "dense_2_size = 16\n",
    "learning_rate = 0.05\n",
    "\n",
    "\n",
    "# define model architecture\n",
    "model = Sequential()\n",
    "model.add(Dense(dense_1_size, activation=\"relu\", input_dim=input_dim))\n",
    "model.add(Dense(dense_2_size, activation=\"relu\"))\n",
    "\n",
    "model.add(Dense(3))\n",
    "#print(model.layers[2].output)\n",
    "#model.add(tfp.distributions.PowerSpherical(model.layers[2].output, [1,1]))\n",
    "\n",
    "model.add(Lambda(lambda x: K.l2_normalize(x, axis=-1)))\n",
    "model.add(Lambda(lambda x: tfp.distributions.TruncatedNormal(x, [0.45,0.45,0.45],[-1,-1,-1], [1,1,1])))\n",
    "#model.add(Lambda(lambda x: K.l2_normalize(x, axis=-1)))\n",
    "\n",
    "print(model.layers[3].output)\n",
    "#model.add(Lambda(lambda x: K.l2_normalize(x, axis=-1)))\n",
    "# compile the model\n",
    "opt = Adam(learning_rate=learning_rate)\n",
    "\n",
    "negative_log_likelihood = lambda y, q: -q.log_prob(y)\n",
    "\n",
    "\n",
    "model.compile( loss=negative_log_likelihood, optimizer=opt)\n",
    "#model.compile( loss=, optimizer=opt)\n",
    "\n",
    "\n",
    "\n",
    "import pickle\n",
    "from astropy.table import Table, join\n",
    "from pandas import *\n",
    "\n",
    "tng = pickle.load(  open('/hildafs/projects/phy200017p/yjagvara/some_data/TNG100-1_99_non-reduced_galaxy_shapes_multi_scale_1024.pkl', \"rb\" ) )\n",
    "\n",
    "tng = Table.from_pandas(DataFrame(tng))\n",
    "tng = tng[tng['dm_mass']>0]\n",
    "tng = tng[tng['central_bool']>0]\n",
    "tid_av_x_train, tid_av_x_test,\\\n",
    "tid_av_y_train, tid_av_y_test,\\\n",
    "tid_av_z_train, tid_av_z_test,\\\n",
    "tid_bv_x_train,tid_bv_x_test,\\\n",
    "tid_bv_y_train, tid_bv_y_test,\\\n",
    "tid_bv_z_train, tid_bv_z_test,\\\n",
    "tid_cv_x_train, tid_cv_x_test,\\\n",
    "tid_cv_y_train, tid_cv_y_test,\\\n",
    "tid_cv_z_train, tid_cv_z_test,\\\n",
    "dm_av_x_train,  dm_av_x_test,\\\n",
    "dm_av_y_train,  dm_av_y_test,\\\n",
    "dm_av_z_train, dm_av_z_test,\\\n",
    "gal_pos_x_train, gal_pos_x_test,\\\n",
    "gal_pos_y_train, gal_pos_y_test,\\\n",
    "gal_pos_z_train, gal_pos_z_test = train_test_split( (tng['tid_av_x_0.1_1024']),  (tng['tid_av_y_0.1_1024']),  (tng['tid_av_z_0.1_1024']),\n",
    "                                        (tng['tid_bv_x_0.1_1024']),  (tng['tid_bv_y_0.1_1024']),  (tng['tid_bv_z_0.1_1024']),\n",
    "                                       ( tng['tid_cv_x_0.1_1024']),  (tng['tid_cv_y_0.1_1024']),  (tng['tid_cv_z_0.1_1024']),\n",
    "                                               (tng['dm_av_x']),   (tng['dm_av_y']),   (tng['dm_av_z']),\n",
    "                                                tng['gal_pos_x'], tng['gal_pos_y'], tng['gal_pos_z'],random_state=0,test_size=0.4)\n",
    "\n",
    "# subhalo_mass_train=subhalo_mass_train.reshape(-1,1)\n",
    "# subhalo_mass_test=subhalo_mass_test.reshape(-1,1)\n",
    "# stellar_mass_train=stellar_mass_train.reshape(-1,1)\n",
    "\n",
    "X = np.vstack((tid_av_x_train, tid_av_y_train, tid_av_z_train, \\\n",
    "tid_bv_x_train, tid_bv_y_train, tid_bv_z_train, \\\n",
    "tid_cv_x_train, tid_cv_y_train, tid_cv_z_train)).T\n",
    "Y = np.vstack((dm_av_x_train, dm_av_y_train,   dm_av_z_train)).T\n",
    "\n",
    "X_test = np.vstack((tid_av_x_test, tid_av_y_test, tid_av_z_test, \\\n",
    "tid_bv_x_test, tid_bv_y_test, tid_bv_z_test, \\\n",
    "tid_cv_x_test, tid_cv_y_test, tid_cv_z_test)).T\n",
    "Y_test = np.vstack((dm_av_x_test, dm_av_y_test,   dm_av_z_test)).T\n",
    "batch_size = min(200, np.array(tng).shape[0])\n",
    "epochs = 500\n",
    "\n",
    "stratify =   None\n",
    "# X_train, X_vald, y_train, y_vald = train_test_split(\n",
    "#     X, y, test_size=1.0, shuffle=True, stratify=stratify\n",
    "# )\n",
    "# set callbacks\n",
    "es = EarlyStopping(monitor=\"val_loss\", mode=\"min\", verbose=0, patience=10)\n",
    "mc = ModelCheckpoint(\n",
    "    \"best_model.h5\",\n",
    "    monitor=\"val_loss\",\n",
    "    mode=\"min\",\n",
    "    verbose=0,\n",
    "    save_best_only=True,\n",
    ")\n",
    "\n",
    "model.fit(\n",
    "    X,\n",
    "    Y,\n",
    "    validation_data=(X_test, Y_test),\n",
    "    batch_size=batch_size,\n",
    "    epochs=500,\n",
    "    verbose=False,\n",
    "    callbacks=[es, mc],\n",
    ")\n",
    "tng = pickle.load(  open('/hildafs/projects/phy200017p/yjagvara/some_data/TNG100-1_99_non-reduced_galaxy_shapes_multi_scale_1024.pkl', \"rb\" ) )\n",
    "\n",
    "tng = Table.from_pandas(DataFrame(tng))\n",
    "tng = tng[tng['dm_mass']>0]\n",
    "\n",
    "Y_pred = model(np.vstack( ((tng['tid_av_x_0.1_1024']),  (tng['tid_av_y_0.1_1024']),  (tng['tid_av_z_0.1_1024']),\n",
    "                                        (tng['tid_bv_x_0.1_1024']),  (tng['tid_bv_y_0.1_1024']),  (tng['tid_bv_z_0.1_1024']),\n",
    "                                       ( tng['tid_cv_x_0.1_1024']),  (tng['tid_cv_y_0.1_1024']),  (tng['tid_cv_z_0.1_1024']))).T).sample().numpy() \n",
    "dm_av_x_pred = Y_pred[:,0]\n",
    "dm_av_y_pred = Y_pred[:,1]\n",
    "dm_av_z_pred = Y_pred[:,2]\n",
    "pos_train = np.array([gal_pos_x_train, gal_pos_y_train, gal_pos_z_train]).T\n",
    "\n",
    "pos_test = np.array([tng['gal_pos_x'], tng['gal_pos_y'], tng['gal_pos_z']]).T\n",
    " \n",
    "or_train = np.array([dm_av_x_train, dm_av_y_train, dm_av_z_train]).T\n",
    "\n",
    "or_pred = np.array([dm_av_x_pred, dm_av_y_pred, dm_av_z_pred]).T \n",
    "\n",
    "\n",
    "\n",
    "rbins = np.logspace(-1.5,1.35,11)\n",
    "ed1h,ed2h = ed_3d_one_two_halo_decomp(pos_train , or_train , np.ones(len(or_train)),  pos_train , np.ones(len(or_train)) , rbins, period=75, num_threads=28)\n",
    "ed1h2,ed2h2 = ed_3d_one_two_halo_decomp(pos_test , or_pred , np.arange(len(Y_pred)),  pos_test , np.arange(len(Y_pred)), rbins, period=75, num_threads=28)\n",
    "plt.figure()\n",
    "plot(rbins[1:] + rbins[:-1],  (ed1h+ed2h),label='TNG100')\n",
    "plot(rbins[1:] + rbins[:-1],  (ed1h))\n",
    "plot(rbins[1:] + rbins[:-1],  (ed2h))\n",
    "\n",
    "plot(rbins[1:] + rbins[:-1],   abs(ed1h2),':',label='predicted',lw=2)\n",
    "plot(rbins[1:] + rbins[:-1],   abs(ed2h2),'--',lw=2)\n",
    "plot(rbins[1:] + rbins[:-1],   abs(ed1h2+ed2h2),':',lw=2)\n",
    "ylim(0.0001, 1.0)\n",
    "legend()\n",
    "title('step:' +str(step))\n",
    "ylabel('ED')\n",
    "xlabel('r (Mpc)')\n",
    "xscale('log')\n",
    "yscale('log')\n",
    "xlim(10**-1,50)\n",
    "title('Centrals only', fontsize=20)\n"
   ]
  },
  {
   "cell_type": "code",
   "execution_count": 9,
   "id": "b8470b6f",
   "metadata": {},
   "outputs": [],
   "source": [
    "\n",
    "tng['mlp_av_x'] = Y_pred[:,0].astype(np.float64) \n",
    "tng['mlp_av_y'] = Y_pred[:,1].astype(np.float64) \n",
    "tng['mlp_av_z'] = Y_pred[:,2].astype(np.float64) \n",
    "pickle.dump( tng ,open( '/hildafs/projects/phy200017p/yjagvara/some_data/TNG100-1_99_non-reduced_galaxy_shapes_multi_scale_1024_MLP_only_cent.pkl' , \"wb\" ) )\n"
   ]
  },
  {
   "cell_type": "code",
   "execution_count": null,
   "id": "accf451e",
   "metadata": {
    "scrolled": false
   },
   "outputs": [],
   "source": []
  },
  {
   "cell_type": "code",
   "execution_count": 9,
   "id": "a186f3d8",
   "metadata": {},
   "outputs": [],
   "source": [
    "x_smpl = linspace((-1,-1,-1), (1,1,1),1000)\n"
   ]
  },
  {
   "cell_type": "code",
   "execution_count": 10,
   "id": "f3565d32",
   "metadata": {},
   "outputs": [
    {
     "name": "stdout",
     "output_type": "stream",
     "text": [
      "tf.Tensor([ -9.163994  -8.854275 -10.83943  ... -11.060701  -9.866486 -11.526154], shape=(13865,), dtype=float32)\n"
     ]
    }
   ],
   "source": [
    "print(model(X_test).log_prob([1,1,1 ]))\n",
    "\n",
    "\n",
    "\n",
    "\n"
   ]
  },
  {
   "cell_type": "code",
   "execution_count": 11,
   "id": "8402ded4",
   "metadata": {},
   "outputs": [],
   "source": [
    "#x_smpl = linspace((-1,-1,-1,-1,-1,-1,-1,-1,-1), (1,1,1,1,1,1,1,1,1),100)\n",
    "\n",
    "\n",
    "# We evaluate the log probability of the model at different points, to sample the pdf of\n",
    "# each example\n",
    "\n"
   ]
  },
  {
   "cell_type": "code",
   "execution_count": 67,
   "id": "b6918d04",
   "metadata": {},
   "outputs": [
    {
     "data": {
      "text/plain": [
       "(27730, 3)"
      ]
     },
     "execution_count": 67,
     "metadata": {},
     "output_type": "execute_result"
    }
   ],
   "source": [
    " \n",
    "Y_pred.shape\n"
   ]
  },
  {
   "cell_type": "code",
   "execution_count": 68,
   "id": "7e171e88",
   "metadata": {},
   "outputs": [
    {
     "data": {
      "text/plain": [
       "Text(0.5, 0, 'Actual (Normalized)')"
      ]
     },
     "execution_count": 68,
     "metadata": {},
     "output_type": "execute_result"
    },
    {
     "data": {
      "image/png": "[encoded data removed]",
      "text/plain": [
       "<Figure size 432x288 with 1 Axes>"
      ]
     },
     "metadata": {
      "needs_background": "light"
     },
     "output_type": "display_data"
    }
   ],
   "source": [
    "h=hist(Y_pred,bins=30)\n",
    "xlabel('Actual (Normalized)')"
   ]
  },
  {
   "cell_type": "code",
   "execution_count": 69,
   "id": "f7571ae6",
   "metadata": {},
   "outputs": [
    {
     "data": {
      "text/plain": [
       "(11092, 3)"
      ]
     },
     "execution_count": 69,
     "metadata": {},
     "output_type": "execute_result"
    }
   ],
   "source": [
    "Y_test.shape"
   ]
  },
  {
   "cell_type": "code",
   "execution_count": 70,
   "id": "6c18cb33",
   "metadata": {},
   "outputs": [
    {
     "data": {
      "text/plain": [
       "Text(0.5, 0, 'Actual (Normalized)')"
      ]
     },
     "execution_count": 70,
     "metadata": {},
     "output_type": "execute_result"
    },
    {
     "data": {
      "image/png": "[encoded data removed]",
      "text/plain": [
       "<Figure size 432x288 with 1 Axes>"
      ]
     },
     "metadata": {
      "needs_background": "light"
     },
     "output_type": "display_data"
    }
   ],
   "source": [
    "h=hist(Y_test,bins=30)\n",
    "xlabel('Actual (Normalized)')"
   ]
  },
  {
   "cell_type": "code",
   "execution_count": 510,
   "id": "6fe6c5c5",
   "metadata": {},
   "outputs": [
    {
     "data": {
      "image/png": "[encoded data removed]",
      "text/plain": [
       "<Figure size 432x288 with 1 Axes>"
      ]
     },
     "metadata": {
      "needs_background": "light"
     },
     "output_type": "display_data"
    }
   ],
   "source": [
    "norms = np.linalg.norm(Y_test,axis=1).astype('float32')\n",
    "h=hist(norms,bins=100 )\n",
    "\n",
    "\n",
    "# dm_vecs = np.array([(tng['dm_av_x']),   (tng['dm_av_y']),   (tng['dm_av_z'])])\n",
    "# zero_dm_vecs = dm_vecs.T[np.linalg.norm(dm_vecs,axis=0)<1]\n",
    "# #hist(np.linalg.norm(zero_dm_vecs,axis=1).astype('float32'))\n",
    "\n",
    "\n"
   ]
  },
  {
   "cell_type": "code",
   "execution_count": 511,
   "id": "4935cd89",
   "metadata": {},
   "outputs": [
    {
     "name": "stdout",
     "output_type": "stream",
     "text": [
      "[1. 1. 1. ... 1. 1. 1.]\n"
     ]
    }
   ],
   "source": [
    "print(np.linalg.norm(Y,axis=-1) )\n"
   ]
  },
  {
   "cell_type": "code",
   "execution_count": null,
   "id": "d88e2cb1",
   "metadata": {},
   "outputs": [],
   "source": []
  },
  {
   "cell_type": "code",
   "execution_count": null,
   "id": "32bf019d",
   "metadata": {},
   "outputs": [],
   "source": []
  },
  {
   "cell_type": "code",
   "execution_count": 512,
   "id": "a53c5e28",
   "metadata": {},
   "outputs": [],
   "source": [
    "\n",
    "dm_av_x_pred = Y_pred[:,0]\n",
    "dm_av_y_pred = Y_pred[:,1]\n",
    "dm_av_z_pred = Y_pred[:,2]\n",
    "pos_train = np.array([gal_pos_x_train, gal_pos_y_train, gal_pos_z_train]).T\n",
    "pos_test = np.array([gal_pos_x_test, gal_pos_y_test, gal_pos_z_test]).T\n",
    "\n",
    "or_train = np.array([dm_av_x_train, dm_av_y_train, dm_av_z_train]).T \n",
    "or_pred = np.array([dm_av_x_pred, dm_av_y_pred, dm_av_z_pred]).T \n",
    "rbins = np.logspace(-1.5,1.35,11)\n",
    "ed1h,ed2h = ed_3d_one_two_halo_decomp(pos_train , or_train , np.ones(len(or_train)),  pos_train , np.ones(len(or_train)) , rbins, period=75, num_threads=28)\n",
    "ed1h2,ed2h2 = ed_3d_one_two_halo_decomp(pos_test , or_pred , np.ones(len(or_pred)),  pos_test , np.ones(len(or_pred)), rbins, period=75, num_threads=28)\n",
    "plt.figure()\n",
    "plot(rbins[1:] + rbins[:-1],  (ed1h+ed2h),label='TNG100')\n",
    "plot(rbins[1:] + rbins[:-1],  (ed1h))\n",
    "plot(rbins[1:] + rbins[:-1],  (ed2h))\n",
    "\n",
    "plot(rbins[1:] + rbins[:-1],   abs(ed1h2),':',label='predicted',lw=2)\n",
    "plot(rbins[1:] + rbins[:-1],   abs(ed2h2),'--',lw=2)\n",
    "plot(rbins[1:] + rbins[:-1],   abs(ed1h2+ed2h2),':',lw=2)\n",
    "ylim(0.0001, 0.5)\n",
    "legend()\n",
    "title('step:' +str(step))\n",
    "ylabel('ED')\n",
    "xlabel('r (Mpc)')\n",
    "xscale('log')\n",
    "yscale('log')\n",
    "xlim(0.1,50)\n",
    "title('Centrals only', fontsize=20)"
   ]
  },
  {
   "cell_type": "code",
   "execution_count": 513,
   "id": "f78cccb6",
   "metadata": {},
   "outputs": [
    {
     "data": {
      "text/plain": [
       "(array([2387., 2279., 2112., 1729., 1510., 1297.,  979.,  696.,  537.,\n",
       "         339.]),\n",
       " array([-9.99976427e-01, -8.00073378e-01, -6.00170330e-01, -4.00267282e-01,\n",
       "        -2.00364233e-01, -4.61184904e-04,  1.99441863e-01,  3.99344912e-01,\n",
       "         5.99247960e-01,  7.99151009e-01,  9.99054057e-01]),\n",
       " <BarContainer object of 10 artists>)"
      ]
     },
     "execution_count": 513,
     "metadata": {},
     "output_type": "execute_result"
    },
    {
     "data": {
      "image/png": "[encoded data removed]",
      "text/plain": [
       "<Figure size 432x288 with 1 Axes>"
      ]
     },
     "metadata": {
      "needs_background": "light"
     },
     "output_type": "display_data"
    }
   ],
   "source": [
    "hist( (dm_av_x_pred),alpha=0.5)\n",
    "hist( (dm_av_x_test),alpha=0.5)\n",
    "\n",
    "\n"
   ]
  },
  {
   "cell_type": "code",
   "execution_count": 514,
   "id": "42bd1fc0",
   "metadata": {},
   "outputs": [
    {
     "data": {
      "text/plain": [
       "(array([1380., 1368., 1376., 1282., 1336., 1429., 1424., 1429., 1416.,\n",
       "        1425.]),\n",
       " array([-9.99855357e-01, -7.99888557e-01, -5.99921757e-01, -3.99954957e-01,\n",
       "        -1.99988157e-01, -2.13569335e-05,  1.99945443e-01,  3.99912243e-01,\n",
       "         5.99879043e-01,  7.99845843e-01,  9.99812643e-01]),\n",
       " <BarContainer object of 10 artists>)"
      ]
     },
     "execution_count": 514,
     "metadata": {},
     "output_type": "execute_result"
    },
    {
     "data": {
      "image/png": "[encoded data removed]",
      "text/plain": [
       "<Figure size 432x288 with 1 Axes>"
      ]
     },
     "metadata": {
      "needs_background": "light"
     },
     "output_type": "display_data"
    }
   ],
   "source": [
    "hist( (dm_av_y_pred),alpha=0.5)\n",
    "hist( (dm_av_y_test),alpha=0.5)"
   ]
  },
  {
   "cell_type": "code",
   "execution_count": 515,
   "id": "5c6a2c62",
   "metadata": {},
   "outputs": [
    {
     "data": {
      "text/plain": [
       "(array([ 725., 1132., 1269., 1331., 1353., 1417., 1476., 1483., 1627.,\n",
       "        2052.]),\n",
       " array([-0.99643123, -0.79679343, -0.59715563, -0.39751783, -0.19788004,\n",
       "         0.00175776,  0.20139556,  0.40103336,  0.60067116,  0.80030896,\n",
       "         0.99994676]),\n",
       " <BarContainer object of 10 artists>)"
      ]
     },
     "execution_count": 515,
     "metadata": {},
     "output_type": "execute_result"
    },
    {
     "data": {
      "image/png": "[encoded data removed]",
      "text/plain": [
       "<Figure size 432x288 with 1 Axes>"
      ]
     },
     "metadata": {
      "needs_background": "light"
     },
     "output_type": "display_data"
    }
   ],
   "source": [
    "hist(dm_av_z_pred,alpha=0.5)\n",
    "hist(dm_av_z_test,alpha=0.5)"
   ]
  },
  {
   "cell_type": "code",
   "execution_count": 516,
   "id": "0391deb3",
   "metadata": {},
   "outputs": [
    {
     "data": {
      "text/plain": [
       "Text(0.5, 1.0, 'Centrals only')"
      ]
     },
     "execution_count": 516,
     "metadata": {},
     "output_type": "execute_result"
    },
    {
     "data": {
      "image/png": "[encoded data removed]",
      "text/plain": [
       "<Figure size 432x288 with 1 Axes>"
      ]
     },
     "metadata": {
      "needs_background": "light"
     },
     "output_type": "display_data"
    }
   ],
   "source": []
  },
  {
   "cell_type": "code",
   "execution_count": 486,
   "id": "5fd144b9",
   "metadata": {},
   "outputs": [],
   "source": [
    "pos_train = np.array([gal_pos_x_train, gal_pos_y_train, gal_pos_z_train]).T\n",
    "pos_test = np.array([gal_pos_x_test, gal_pos_y_test, gal_pos_z_test]).T\n",
    "\n",
    "or_train = np.array([dm_av_x_train, dm_av_y_train, dm_av_z_train]).T \n",
    "or_pred = np.array([dm_av_x_pred, dm_av_y_pred, dm_av_z_pred]).T \n",
    "rbins = np.logspace(-1.5,1.5,16)\n",
    "ed1h,ed2h = ed_3d_one_two_halo_decomp(pos_train , or_train , np.ones(len(or_train)),  pos_train , np.ones(len(or_train)) , rbins, period=None, num_threads=28)\n",
    "ed1h2,ed2h2 = ed_3d_one_two_halo_decomp(pos_test , or_pred , np.ones(len(or_pred)),  pos_test , np.ones(len(or_pred)), rbins, period=None, num_threads=28)\n"
   ]
  },
  {
   "cell_type": "code",
   "execution_count": 435,
   "id": "d5f24acc",
   "metadata": {},
   "outputs": [
    {
     "data": {
      "text/plain": [
       "Text(0.5, 1.0, 'Central+Sat.')"
      ]
     },
     "execution_count": 435,
     "metadata": {},
     "output_type": "execute_result"
    },
    {
     "data": {
      "image/png": "[encoded data removed]",
      "text/plain": [
       "<Figure size 432x288 with 1 Axes>"
      ]
     },
     "metadata": {
      "needs_background": "light"
     },
     "output_type": "display_data"
    }
   ],
   "source": [
    "plt.figure()\n",
    "plot(rbins[1:] + rbins[:-1],  (ed1h+ed2h),label='TNG100')\n",
    "plot(rbins[1:] + rbins[:-1],  (ed1h))\n",
    "plot(rbins[1:] + rbins[:-1],  (ed2h))\n",
    "\n",
    "plot(rbins[1:] + rbins[:-1],  (ed1h2),':',label='predicted',lw=2)\n",
    "plot(rbins[1:] + rbins[:-1],  (ed2h2),'--',lw=2)\n",
    "plot(rbins[1:] + rbins[:-1],  (ed1h2+ed2h2),':',lw=2)\n",
    "ylim(0.0001, 0.5)\n",
    "legend()\n",
    "title('step:' +str(step))\n",
    "ylabel('ED')\n",
    "xlabel('r (Mpc)')\n",
    "xscale('log')\n",
    "yscale('log')\n",
    "xlim(0.1,50)\n",
    "title('Central+Sat.', fontsize=20)"
   ]
  },
  {
   "cell_type": "code",
   "execution_count": null,
   "id": "0f7103da",
   "metadata": {},
   "outputs": [],
   "source": []
  },
  {
   "cell_type": "code",
   "execution_count": null,
   "id": "53185646",
   "metadata": {},
   "outputs": [],
   "source": []
  },
  {
   "cell_type": "code",
   "execution_count": null,
   "id": "15a11a08",
   "metadata": {},
   "outputs": [],
   "source": []
  },
  {
   "cell_type": "code",
   "execution_count": null,
   "id": "c975f4b9",
   "metadata": {},
   "outputs": [],
   "source": []
  }
 ],
 "metadata": {
  "kernelspec": {
   "display_name": "test-tf3",
   "language": "python",
   "name": "test-tf3"
  },
  "language_info": {
   "codemirror_mode": {
    "name": "ipython",
    "version": 3
   },
   "file_extension": ".py",
   "mimetype": "text/x-python",
   "name": "python",
   "nbconvert_exporter": "python",
   "pygments_lexer": "ipython3",
   "version": "3.9.7"
  }
 },
 "nbformat": 4,
 "nbformat_minor": 5
}
